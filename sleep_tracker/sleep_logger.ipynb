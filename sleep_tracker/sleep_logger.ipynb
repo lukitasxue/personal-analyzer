{
 "cells": [
  {
   "cell_type": "code",
   "execution_count": null,
   "metadata": {},
   "outputs": [
    {
     "name": "stdout",
     "output_type": "stream",
     "text": [
      "✅ Sleep logged: -2.00 hours on 2025-02-08\n"
     ]
    },
    {
     "ename": "",
     "evalue": "",
     "output_type": "error",
     "traceback": [
      "\u001b[1;31mThe Kernel crashed while executing code in the current cell or a previous cell. \n",
      "\u001b[1;31mPlease review the code in the cell(s) to identify a possible cause of the failure. \n",
      "\u001b[1;31mClick <a href='https://aka.ms/vscodeJupyterKernelCrash'>here</a> for more info. \n",
      "\u001b[1;31mView Jupyter <a href='command:jupyter.viewOutput'>log</a> for further details."
     ]
    }
   ],
   "source": [
    "import pandas as pd\n",
    "import datetime\n",
    "\n",
    "# Define the CSV file\n",
    "csv_file = \"sleep_log.csv\"\n",
    "\n",
    "# Check if file exists, if not, create it\n",
    "try:\n",
    "    df = pd.read_csv(csv_file)\n",
    "except FileNotFoundError:\n",
    "    df = pd.DataFrame(columns=[\"Date\", \"Sleep Start\", \"Wake-Up Time\", \"Duration (Hours)\"])\n",
    "    df.to_csv(csv_file, index=False)\n",
    "\n",
    "# Get user input\n",
    "date = input(\"Enter the date (YYYY-MM-DD): \")\n",
    "sleep_start = input(\"Enter sleep start time (HH:MM): \")\n",
    "wake_up = input(\"Enter wake-up time (HH:MM): \")\n",
    "\n",
    "# Convert times to datetime format\n",
    "start_time = datetime.datetime.strptime(f\"{date} {sleep_start}\", \"%Y-%m-%d %H:%M\")\n",
    "wake_time = datetime.datetime.strptime(f\"{date} {wake_up}\", \"%Y-%m-%d %H:%M\")\n",
    "\n",
    "# Calculate sleep duration\n",
    "duration = (wake_time - start_time).total_seconds() / 3600  # Convert seconds to hours\n",
    "\n",
    "# Append to CSV\n",
    "df = pd.DataFrame([[date, sleep_start, wake_up, duration]], columns=[\"Date\", \"Sleep Start\", \"Wake-Up Time\", \"Duration (Hours)\"])\n",
    "df.to_csv(csv_file, mode='a', header=False, index=False)\n",
    "\n",
    "print(f\"✅ Sleep logged: {duration:.2f} hours on {date}\")\n"
   ]
  }
 ],
 "metadata": {
  "kernelspec": {
   "display_name": "Python 3",
   "language": "python",
   "name": "python3"
  },
  "language_info": {
   "codemirror_mode": {
    "name": "ipython",
    "version": 3
   },
   "file_extension": ".py",
   "mimetype": "text/x-python",
   "name": "python",
   "nbconvert_exporter": "python",
   "pygments_lexer": "ipython3",
   "version": "3.12.5"
  }
 },
 "nbformat": 4,
 "nbformat_minor": 2
}
